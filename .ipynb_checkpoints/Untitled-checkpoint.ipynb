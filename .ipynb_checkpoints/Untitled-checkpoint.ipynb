{
 "cells": [
  {
   "cell_type": "code",
   "execution_count": 3,
   "id": "54fdf8b5",
   "metadata": {},
   "outputs": [],
   "source": [
    "name=\"pizza\"\n",
    "name2=\"pasta\"\n",
    "qt1=2\n",
    "qt2=4"
   ]
  },
  {
   "cell_type": "code",
   "execution_count": 4,
   "id": "93da3ba6",
   "metadata": {},
   "outputs": [
    {
     "name": "stdout",
     "output_type": "stream",
     "text": [
      "I want 2pizza and 4pasta\n"
     ]
    }
   ],
   "source": [
    "print(\"I want \"+ str(qt1) + \" \" +name+ \" and \"+str(qt2) \" \" +name2)"
   ]
  },
  {
   "cell_type": "code",
   "execution_count": null,
   "id": "17a92ff2",
   "metadata": {},
   "outputs": [],
   "source": []
  }
 ],
 "metadata": {
  "kernelspec": {
   "display_name": "Python 3 (ipykernel)",
   "language": "python",
   "name": "python3"
  },
  "language_info": {
   "codemirror_mode": {
    "name": "ipython",
    "version": 3
   },
   "file_extension": ".py",
   "mimetype": "text/x-python",
   "name": "python",
   "nbconvert_exporter": "python",
   "pygments_lexer": "ipython3",
   "version": "3.10.9"
  }
 },
 "nbformat": 4,
 "nbformat_minor": 5
}
